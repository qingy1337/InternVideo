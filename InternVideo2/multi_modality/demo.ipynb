{
 "cells": [
  {
   "cell_type": "code",
   "execution_count": 1,
   "metadata": {
    "scrolled": true
   },
   "outputs": [],
   "source": [
    "!pip install -q einops peft open_clip_torch protobuf sentencepiece"
   ]
  },
  {
   "cell_type": "code",
   "execution_count": 2,
   "metadata": {},
   "outputs": [
    {
     "name": "stderr",
     "output_type": "stream",
     "text": [
      "/Users/qing/PycharmProjects/InternVideo/InternVideo2/multi_modality/models/backbones/internvideo2/internvl_clip_vision.py:140: FutureWarning: `torch.cuda.amp.autocast(args...)` is deprecated. Please use `torch.amp.autocast('cuda', args...)` instead.\n",
      "  @torch.cuda.amp.autocast(enabled=False)\n",
      "/Users/qing/PycharmProjects/InternVideo/InternVideo2/multi_modality/models/backbones/internvideo2/internvideo2.py:135: FutureWarning: `torch.cuda.amp.autocast(args...)` is deprecated. Please use `torch.amp.autocast('cuda', args...)` instead.\n",
      "  @torch.cuda.amp.autocast(enabled=False)\n",
      "/Users/qing/PycharmProjects/InternVideo/InternVideo2/multi_modality/models/backbones/internvideo2/internvideo2_clip_vision.py:136: FutureWarning: `torch.cuda.amp.autocast(args...)` is deprecated. Please use `torch.amp.autocast('cuda', args...)` instead.\n",
      "  @torch.cuda.amp.autocast(enabled=False)\n"
     ]
    },
    {
     "name": "stdout",
     "output_type": "stream",
     "text": [
      "No module named 'deepspeed'\n",
      "deepspeed is not installed!!!\n"
     ]
    }
   ],
   "source": [
    "import sys\n",
    "import os\n",
    "\n",
    "sys.path.append(os.getcwd())\n",
    "import numpy as np\n",
    "import os\n",
    "import io\n",
    "import cv2\n",
    "\n",
    "import torch\n",
    "\n",
    "from demo.config import (Config,\n",
    "                    eval_dict_leaf)\n",
    "\n",
    "from demo.utils import (retrieve_text,\n",
    "                  _frame_from_video,\n",
    "                  setup_internvideo2)"
   ]
  },
  {
   "cell_type": "code",
   "execution_count": 3,
   "metadata": {},
   "outputs": [],
   "source": [
    "config = Config.from_file('scripts/pretraining/clip/L14/config.py')\n",
    "config = eval_dict_leaf(config)\n",
    "config.device = 'cpu'\n",
    "\n",
    "# Regular sized model\n",
    "# config.model.text_ckpt_path = 'model/internvl_c_13b_224px.pth'\n",
    "# config.model.vision_ckpt_path = 'model/InternVideo2.pt'\n",
    "# config.model.tokenizer_path = 'model/chinese_alpaca_lora_7b'\n",
    "# config.model.text_encoder.llama_path = 'model/chinese_alpaca_lora_7b'\n",
    "# config.model.extra_ckpt_path = \"model/1B_clip.pth\"\n",
    "\n",
    "# Small Model\n",
    "config.model.vision_ckpt_path = \"model_small/L14_ft_k710_f8.bin\"\n",
    "config.model.text_ckpt_path = \"model_small/mobileclip_blt.pt\"\n",
    "config.model.extra_ckpt_path = \"model_small/1B_clip.bin\"\n",
    "\n",
    "\n",
    "# model_pth = 'model/InternVideo2.pt'\n",
    "# config['pretrained_path'] = model_pth\n",
    "# config['model']['vision_encoder']['pretrained'] = model_pth\n",
    "# config['model']['extra_ckpt_path'] = 'model/1B_clip.pth'"
   ]
  },
  {
   "cell_type": "code",
   "execution_count": 4,
   "metadata": {},
   "outputs": [
    {
     "name": "stderr",
     "output_type": "stream",
     "text": [
      "/Users/qing/PycharmProjects/InternVideo/InternVideo2/multi_modality/models/internvideo2_clip_small.py:235: FutureWarning: You are using `torch.load` with `weights_only=False` (the current default value), which uses the default pickle module implicitly. It is possible to construct malicious pickle data which will execute arbitrary code during unpickling (See https://github.com/pytorch/pytorch/blob/main/SECURITY.md#untrusted-models for more details). In a future release, the default value for `weights_only` will be flipped to `True`. This limits the functions that could be executed during unpickling. Arbitrary objects will no longer be allowed to be loaded via this mode unless they are explicitly allowlisted by the user via `torch.serialization.add_safe_globals`. We recommend you start setting `weights_only=True` for any use case where you don't have full control of the loaded file. Please open an issue on GitHub for any issues related to this experimental feature.\n",
      "  vision_ckpt = torch.load(vision_ckpt_path, map_location='cpu')\n",
      "/Users/qing/PycharmProjects/InternVideo/InternVideo2/multi_modality/models/internvideo2_clip_small.py:266: FutureWarning: You are using `torch.load` with `weights_only=False` (the current default value), which uses the default pickle module implicitly. It is possible to construct malicious pickle data which will execute arbitrary code during unpickling (See https://github.com/pytorch/pytorch/blob/main/SECURITY.md#untrusted-models for more details). In a future release, the default value for `weights_only` will be flipped to `True`. This limits the functions that could be executed during unpickling. Arbitrary objects will no longer be allowed to be loaded via this mode unless they are explicitly allowlisted by the user via `torch.serialization.add_safe_globals`. We recommend you start setting `weights_only=True` for any use case where you don't have full control of the loaded file. Please open an issue on GitHub for any issues related to this experimental feature.\n",
      "  test_ckpt = torch.load(text_ckpt_path, map_location='cpu')\n",
      "/Users/qing/PycharmProjects/InternVideo/InternVideo2/multi_modality/models/internvideo2_clip_small.py:277: FutureWarning: You are using `torch.load` with `weights_only=False` (the current default value), which uses the default pickle module implicitly. It is possible to construct malicious pickle data which will execute arbitrary code during unpickling (See https://github.com/pytorch/pytorch/blob/main/SECURITY.md#untrusted-models for more details). In a future release, the default value for `weights_only` will be flipped to `True`. This limits the functions that could be executed during unpickling. Arbitrary objects will no longer be allowed to be loaded via this mode unless they are explicitly allowlisted by the user via `torch.serialization.add_safe_globals`. We recommend you start setting `weights_only=True` for any use case where you don't have full control of the loaded file. Please open an issue on GitHub for any issues related to this experimental feature.\n",
      "  extra_ckpt = torch.load(extra_ckpt_path, map_location='cpu')\n"
     ]
    }
   ],
   "source": [
    "from models.internvideo2_clip_small import InternVideo2_CLIP_small\n",
    "intern_model = InternVideo2_CLIP_small(config)"
   ]
  },
  {
   "cell_type": "code",
   "execution_count": 9,
   "metadata": {},
   "outputs": [
    {
     "name": "stdout",
     "output_type": "stream",
     "text": [
      "text: A playful dog and its owner wrestle in the snowy yard, chasing each other with joyous abandon. ~ prob: 18.9453\n",
      "6.012591417000003\n"
     ]
    }
   ],
   "source": [
    "from time import perf_counter\n",
    "\n",
    "video = cv2.VideoCapture('demo/example1.mp4')\n",
    "frames = [x for x in _frame_from_video(video)]\n",
    "\n",
    "text_candidates = [\"A playful dog and its owner wrestle in the snowy yard, chasing each other with joyous abandon.\"]\n",
    "\n",
    "t1 = perf_counter()\n",
    "texts, probs = retrieve_text(frames, text_candidates, model=intern_model, topk=1, config=config, device = \"cpu\")\n",
    "\n",
    "for t, p in zip(texts, probs):\n",
    "    print(f'text: {t} ~ prob: {p:.4f}')\n",
    "\n",
    "t2 = perf_counter() - t1\n",
    "print(t2)"
   ]
  },
  {
   "cell_type": "code",
   "execution_count": 11,
   "metadata": {},
   "outputs": [
    {
     "name": "stdout",
     "output_type": "stream",
     "text": [
      "       label   youtube_id\n",
      "0  abseiling  0wR5jVB-WPk\n",
      "1  abseiling  3caPS4FHFF8\n",
      "2  abseiling  3yaoNwz99xM\n",
      "3  abseiling  6IbvOJxXnOo\n",
      "4  abseiling  6_4kjPiQr7w\n",
      "\n",
      "['-j3eNzQR-EI_000064_000074.mp4', '-C-PvafuvFE_000068_000078.mp4', '0yNXOIqJLtA_000012_000022.mp4', '13Ub1MDkiHc_000014_000024.mp4', '-IlFdaVdEyU_000001_000011.mp4']\n",
      "Removed 0 Videos!\n"
     ]
    }
   ],
   "source": [
    "import pandas as pd\n",
    "import numpy as np\n",
    "\n",
    "val_data = pd.read_csv('k600/val.csv').iloc[:,0:2]\n",
    "videos = os.listdir('k600/part_0')\n",
    "\n",
    "print(val_data.head())\n",
    "print()\n",
    "print(videos[-5:])\n",
    "\n",
    "id_label_map = {}\n",
    "for row in range(len(val_data)):\n",
    "    id_label_map[val_data.iloc[row]['youtube_id']] = val_data.iloc[row]['label']\n",
    "\n",
    "remove_points = len(videos) - 500\n",
    "sampled_points = np.random.choice(videos, remove_points, replace=False)\n",
    "classes = val_data['label'].unique()\n",
    "for i in sampled_points:\n",
    "    os.remove(f'k600/part_0/{i}')\n",
    "print(f\"Removed {remove_points} Videos!\")"
   ]
  },
  {
   "cell_type": "code",
   "execution_count": null,
   "metadata": {},
   "outputs": [],
   "source": []
  },
  {
   "cell_type": "code",
   "execution_count": null,
   "metadata": {},
   "outputs": [],
   "source": []
  },
  {
   "cell_type": "code",
   "execution_count": null,
   "metadata": {},
   "outputs": [
    {
     "name": "stdout",
     "output_type": "stream",
     "text": [
      "208/500 Completed\n",
      "-------------------------\n",
      "Correct: celebrating\n",
      "-------------------------\n",
      "Predictions -------------\n",
      "15.9960 | celebrating\n",
      "12.7818 | clapping\n",
      "12.6183 | applauding\n",
      "12.5858 | giving or receiving award\n",
      "12.0110 | pumping fist\n",
      "-------------------------\n",
      "Top 1: 0.8028846153846154\n",
      "Top 5: 0.9471153846153846\n"
     ]
    }
   ],
   "source": [
    "from IPython.display import clear_output\n",
    "top1 = 0\n",
    "top5 = 0\n",
    "total = 0\n",
    "collect_data = []\n",
    "for check in videos:\n",
    "    video = cv2.VideoCapture(f'k600/part_0/{check}')\n",
    "    frames = [x for x in _frame_from_video(video)]\n",
    "    \n",
    "    video_label = id_label_map[check[:11]]\n",
    "    \n",
    "    texts, probs = retrieve_text(frames, classes, model=intern_model, topk=5, config=config, device = \"cpu\")\n",
    "    collect_data.append((texts, probs))\n",
    "    clear_output(wait=True)\n",
    "    if texts[0] == video_label:\n",
    "        top1 += 1\n",
    "    if video_label in texts:\n",
    "        top5 += 1\n",
    "    total += 1\n",
    "    print(f\"{total}/500 Completed\")\n",
    "    print('-'*25)\n",
    "    print(\"Correct:\", video_label)\n",
    "    print('-'*25)\n",
    "    print('Predictions ' + '-'*13)\n",
    "    for i, v in zip(texts, probs):\n",
    "        print(f'{v:.4f}', '|', i)\n",
    "    print('-'*25)\n",
    "    print(\"Top 1:\",top1/total)\n",
    "    print(\"Top 5:\", top5/total)"
   ]
  },
  {
   "cell_type": "code",
   "execution_count": null,
   "metadata": {},
   "outputs": [],
   "source": []
  }
 ],
 "metadata": {
  "kernelspec": {
   "display_name": "Python 3 (ipykernel)",
   "language": "python",
   "name": "python3"
  },
  "language_info": {
   "codemirror_mode": {
    "name": "ipython",
    "version": 3
   },
   "file_extension": ".py",
   "mimetype": "text/x-python",
   "name": "python",
   "nbconvert_exporter": "python",
   "pygments_lexer": "ipython3",
   "version": "3.9.19"
  }
 },
 "nbformat": 4,
 "nbformat_minor": 4
}
